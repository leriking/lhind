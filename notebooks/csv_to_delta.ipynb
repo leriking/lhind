{
 "cells": [
  {
   "cell_type": "code",
   "execution_count": null,
   "metadata": {},
   "outputs": [],
   "source": [
    "import re\n",
    "from pyspark.sql import SparkSession\n",
    "from pathlib import PurePosixPath\n",
    "\n",
    "# Set Azure storage config\n",
    "spark.conf.set(\n",
    "  \"fs.azure.account.key.lhindstorage.blob.core.windows.net\",\n",
    "  \"SPFV+Hdv7AWTGTpysBBwEVXJvefoYSSr17wLSWB+onc3PMYbwXEcpFRZvHvXF06eePtCy00PIvZu+AStpz1VzA==\"\n",
    ")\n",
    "\n",
    "# Define paths\n",
    "csv_folder = \"wasbs://clean-data@lhindstorage.blob.core.windows.net/\"\n",
    "delta_base = \"wasbs://delta-tables@lhindstorage.blob.core.windows.net/\"\n",
    "\n",
    "# List all CSV files\n",
    "dbutils.fs.ls(csv_folder)\n",
    "\n",
    "# Loop throug \n",
    "for file in dbutils.fs.ls(csv_folder):\n",
    "    if file.name.endswith(\".csv\"):\n",
    "        table_name = PurePosixPath(file.name).stem\n",
    "        csv_path = csv_folder + file.name\n",
    "        delta_path = delta_base + table_name + \"/\"\n",
    "\n",
    "        df = spark.read.option(\"header\", \"true\").option(\"inferSchema\", \"true\").csv(csv_path)\n",
    "        df.write.format(\"delta\").mode(\"overwrite\").save(delta_path)"
   ]
  }
 ],
 "metadata": {
  "kernelspec": {
   "display_name": "Python 3",
   "language": "python",
   "name": "python3"
  },
  "language_info": {
   "codemirror_mode": {
    "name": "ipython",
    "version": 3
   },
   "file_extension": ".py",
   "mimetype": "text/x-python",
   "name": "python",
   "nbconvert_exporter": "python",
   "pygments_lexer": "ipython3",
   "version": "3.8.5"
  }
 },
 "nbformat": 4,
 "nbformat_minor": 4
}
