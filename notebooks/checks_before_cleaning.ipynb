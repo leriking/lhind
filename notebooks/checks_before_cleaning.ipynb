{
 "cells": [
  {
   "cell_type": "code",
   "execution_count": null,
   "metadata": {},
   "outputs": [],
   "source": [
    "import pandas as pd\n",
    "from azure.storage.blob import BlobServiceClient, ContainerClient\n",
    "import os\n",
    "from io import BytesIO\n",
    "\n",
    "# Function for basic checks\n",
    "def dataset_checks(df, name, id_columns=None, datetime_columns=None):\n",
    "    print(f\"\\n{'='*30}\\nDataset: {name}\\n{'='*30}\")\n",
    "    \n",
    "    # Overview\n",
    "    print(f\"Shape: {df.shape}\")\n",
    "    print(f\"Columns: {list(df.columns)}\")\n",
    "    print(f\"Data Types:\\n{df.dtypes}\\n\")\n",
    "    \n",
    "    # Null / Missing Values\n",
    "    print(f\"Missing Values:\\n{df.isnull().sum()}\\n\")\n",
    "    \n",
    "    # Duplicated Rows\n",
    "    print(f\"Duplicated Rows: {df.duplicated().sum()} rreshta\")\n",
    "    \n",
    "    # Unique values ,ID Checks\n",
    "    if id_columns:\n",
    "        for col in id_columns:\n",
    "            unique_ids = df[col].nunique()\n",
    "            print(f\"Unique IDs in {col}: {unique_ids} / {len(df)} rows\")\n",
    "    \n",
    "    # Describe Numerical\n",
    "    print(\"\\nStatistical Summary (Numerical Columns):\")\n",
    "    print(df.describe())\n",
    "    \n",
    "    # Unique Values for Object columns\n",
    "    for col in df.select_dtypes(include='object').columns:\n",
    "        print(f\"\\nUnique Values in {col} (Top 10):\")\n",
    "        print(df[col].value_counts().head(10))\n",
    "    \n",
    "    # Datetime Consistency\n",
    "    if datetime_columns:\n",
    "        for col in datetime_columns:\n",
    "            try:\n",
    "                df[col] = pd.to_datetime(df[col])\n",
    "                print(f\"Parsed {col} successfully to datetime.\")\n",
    "            except Exception as e:\n",
    "                print(f\"Error parsing {col}: {e}\")\n",
    "        \n",
    "        # If multiple datetimes, check logical ordering\n",
    "        if len(datetime_columns) >= 2:\n",
    "            print(\"\\nDatetime logical checks:\")\n",
    "            print(df[datetime_columns].head())"
   ]
  },
  {
   "cell_type": "code",
   "execution_count": null,
   "metadata": {},
   "outputs": [],
   "source": [
    "# Connection string to storage in Azure\n",
    "connection_string = \"DefaultEndpointsProtocol=https;AccountName=lhindstorage;celsi;EndpointSuffix=core.windows.net\"\n",
    "\n",
    "# Source conteniner for intial checks\n",
    "source_container = \"raw-data\"\n",
    "\n",
    "# Initialize\n",
    "blob_service_client = BlobServiceClient.from_connection_string(connection_string)\n",
    "\n",
    "# Get\n",
    "container_client = blob_service_client.get_container_client(source_container)"
   ]
  },
  {
   "cell_type": "code",
   "execution_count": null,
   "metadata": {},
   "outputs": [],
   "source": [
    "# Get the specific blob\n",
    "customers = container_client.get_blob_client('olist_customers_dataset.csv')\n",
    "#Read into DataFrames\n",
    "df_customers = pd.read_csv(BytesIO(customers.download_blob().readall()))\n",
    "#Cheks\n",
    "dataset_checks(df_customers, \"Customers\", id_columns=['customer_id'])"
   ]
  },
  {
   "cell_type": "code",
   "execution_count": null,
   "metadata": {},
   "outputs": [],
   "source": [
    "orders = container_client.get_blob_client('olist_orders_dataset.csv')\n",
    "df_orders = pd.read_csv(BytesIO(orders.download_blob().readall()))\n",
    "dataset_checks(df_orders, \"Orders\", id_columns=['order_id'], datetime_columns=[\n",
    "    'order_purchase_timestamp', 'order_approved_at',\n",
    "    'order_delivered_carrier_date', 'order_delivered_customer_date',\n",
    "    'order_estimated_delivery_date'\n",
    "])"
   ]
  },
  {
   "cell_type": "code",
   "execution_count": null,
   "metadata": {},
   "outputs": [],
   "source": [
    "products = container_client.get_blob_client('olist_products_dataset.csv')\n",
    "df_products = pd.read_csv(BytesIO(products.download_blob().readall()))\n",
    "dataset_checks(df_products, \"Products\", id_columns=['product_id'])"
   ]
  },
  {
   "cell_type": "code",
   "execution_count": null,
   "metadata": {},
   "outputs": [],
   "source": [
    "sellers = container_client.get_blob_client('olist_sellers_dataset.csv')\n",
    "df_sellers = pd.read_csv(BytesIO(sellers.download_blob().readall()))\n",
    "dataset_checks(df_sellers, \"Sellers\", id_columns=['seller_id'])"
   ]
  },
  {
   "cell_type": "code",
   "execution_count": null,
   "metadata": {},
   "outputs": [],
   "source": [
    "order_items = container_client.get_blob_client('olist_order_items_dataset.csv')\n",
    "df_order_items =pd.read_csv(BytesIO(order_items.download_blob().readall()))\n",
    "dataset_checks(df_order_items, \"Order Items\", id_columns=['order_id', 'order_item_id', 'product_id', 'seller_id'])"
   ]
  },
  {
   "cell_type": "code",
   "execution_count": null,
   "metadata": {},
   "outputs": [],
   "source": [
    "order_payments = container_client.get_blob_client('olist_order_payments_dataset.csv')\n",
    "df_order_payments = pd.read_csv(BytesIO(order_payments.download_blob().readall()))\n",
    "dataset_checks(df_order_payments, \"Order Payments\", id_columns=['order_id'])"
   ]
  },
  {
   "cell_type": "code",
   "execution_count": null,
   "metadata": {},
   "outputs": [],
   "source": [
    "order_reviews = container_client.get_blob_client('olist_order_reviews_dataset.csv')\n",
    "df_order_reviews = pd.read_csv(BytesIO(order_reviews.download_blob().readall()))\n",
    "dataset_checks(df_order_reviews, \"Order Reviews\", id_columns=['order_id', 'review_id'], datetime_columns=['review_creation_date', 'review_answer_timestamp'])"
   ]
  },
  {
   "cell_type": "code",
   "execution_count": null,
   "metadata": {},
   "outputs": [],
   "source": [
    "geolocation = container_client.get_blob_client('olist_geolocation_dataset.csv')\n",
    "df_geolocation = pd.read_csv(BytesIO(geolocation.download_blob().readall()))\n",
    "dataset_checks(df_geolocation, \"Geolocation\")"
   ]
  },
  {
   "cell_type": "code",
   "execution_count": null,
   "metadata": {},
   "outputs": [],
   "source": [
    "product_category_name_translation = container_client.get_blob_client('product_category_name_translation.csv')\n",
    "df_product_category_name_translation = pd.read_csv(BytesIO(product_category_name_translation.download_blob().readall()))\n",
    "dataset_checks(df_product_category_name_translation, \"Product category name translation\")"
   ]
  }
 ],
 "metadata": {
  "kernelspec": {
   "display_name": "Python 3",
   "language": "python",
   "name": "python3"
  },
  "language_info": {
   "codemirror_mode": {
    "name": "ipython",
    "version": 3
   },
   "file_extension": ".py",
   "mimetype": "text/x-python",
   "name": "python",
   "nbconvert_exporter": "python",
   "pygments_lexer": "ipython3",
   "version": "3.8.5"
  }
 },
 "nbformat": 4,
 "nbformat_minor": 4
}
