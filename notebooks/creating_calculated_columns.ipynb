{
 "cells": [
  {
   "cell_type": "code",
   "execution_count": null,
   "metadata": {},
   "outputs": [],
   "source": [
    "import pandas as pd\n",
    "from azure.storage.blob import BlobServiceClient\n",
    "from io import StringIO\n",
    "\n",
    "# Azure connection details\n",
    "connection_string = \"DefaultEndpointsProtocol=https;AccountName=lhindstorage;AccountKey=SPFV+Hdv7AWTGTpysBBwEVXJvefoYSSr17wLSWB+onc3PMYbwXEcpFRZvHvXF06eePtCy00PIvZu+AStpz1VzA==;EndpointSuffix=core.windows.net\"\n",
    "container_name = \"clean-data\""
   ]
  },
  {
   "cell_type": "code",
   "execution_count": null,
   "metadata": {},
   "outputs": [],
   "source": [
    "# File names in the container\n",
    "files = {\n",
    "    \"order_items\": \"order_items.csv\",\n",
    "    \"orders\": \"orders.csv\",\n",
    "    \"order_payments\": \"order_payments.csv\"\n",
    "}\n",
    "\n",
    "# Initialize BlobServiceClient\n",
    "blob_service_client = BlobServiceClient.from_connection_string(connection_string)\n",
    "container_client = blob_service_client.get_container_client(container_name)\n",
    "\n",
    "# Function to load a CSV file fron Azure Blob Storage into a Dataframe\n",
    "def load_csv_from_blob(blob_name):\n",
    "    blob_client = container_client.get_blob_client(blob_name)\n",
    "    download_stream = blob_client.download_blob()\n",
    "    content = download_stream.readall().decode(\"utf-8\")\n",
    "    return pd.read_csv(StringIO(content))\n",
    "\n",
    "# Load datasets\n",
    "order_items = load_csv_from_blob(files[\"order_items\"])\n",
    "orders = load_csv_from_blob(files[\"orders\"])\n",
    "order_payments = load_csv_from_blob(files[\"order_payments\"])"
   ]
  },
  {
   "cell_type": "code",
   "execution_count": null,
   "metadata": {},
   "outputs": [],
   "source": [
    "## Transformime\n",
    "# Total_price\n",
    "order_items['total_price'] = order_items['price'] + order_items['freight_value']\n",
    "\n",
    "# Delivery time\n",
    "orders['order_purchase_timestamp'] = pd.to_datetime(orders['order_purchase_timestamp'])\n",
    "orders['order_delivered_customer_date'] = pd.to_datetime(orders['order_delivered_customer_date'])\n",
    "\n",
    "delivery_times = orders[['order_id', 'order_purchase_timestamp', 'order_delivered_customer_date']].copy()\n",
    "delivery_times['delivery_time_days'] = (\n",
    "    delivery_times['order_delivered_customer_date'] - delivery_times['order_purchase_timestamp']\n",
    ").dt.days\n",
    "\n",
    "order_items = order_items.merge(delivery_times[['order_id', 'delivery_time_days']], on='order_id', how='left')\n",
    "\n",
    "# Payment count\n",
    "order_payments_sum = order_payments.groupby('order_id')['payment_installments'].sum().reset_index()\n",
    "order_payments_sum.rename(columns={'payment_installments': 'payment_count'}, inplace=True)\n",
    "order_payments_sum['payment_count'] = order_payments_sum['payment_count'].astype(int)\n",
    "\n",
    "order_items = order_items.merge(order_payments_sum, on='order_id', how='left')\n",
    "\n",
    "# Profit margin\n",
    "order_items['profit_margin'] = order_items['price'] - order_items['freight_value']"
   ]
  },
  {
   "cell_type": "code",
   "execution_count": null,
   "metadata": {},
   "outputs": [],
   "source": [
    "## Upload \n",
    "# Convert DataFrame to CSV\n",
    "csv_buffer = StringIO()\n",
    "order_items.to_csv(csv_buffer, index=False)\n",
    "csv_data = csv_buffer.getvalue()\n",
    "\n",
    "# Upload the updated CSV\n",
    "output_blob_name = \"order_items.csv\"\n",
    "blob_client = container_client.get_blob_client(output_blob_name)\n",
    "blob_client.upload_blob(csv_data, overwrite=True)"
   ]
  }
 ],
 "metadata": {
  "kernelspec": {
   "display_name": "Python 3",
   "language": "python",
   "name": "python3"
  },
  "language_info": {
   "codemirror_mode": {
    "name": "ipython",
    "version": 3
   },
   "file_extension": ".py",
   "mimetype": "text/x-python",
   "name": "python",
   "nbconvert_exporter": "python",
   "pygments_lexer": "ipython3",
   "version": "3.8.5"
  }
 },
 "nbformat": 4,
 "nbformat_minor": 4
}
