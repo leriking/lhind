{
 "cells": [
  {
   "cell_type": "code",
   "execution_count": null,
   "metadata": {},
   "outputs": [],
   "source": [
    "# Move_files_to_archive\n",
    "\n",
    "from datetime import datetime\n",
    "from pyspark.sql import SparkSession\n",
    "\n",
    "# CONFIGURTION\n",
    "storage_account = \"lhindstorage\"\n",
    "storage_key = \"SPFV+Hdv7AWTGTpysBBwEVXJvefoYSSr17wLSWB+onc3PMYbwXEcpFRZvHvXF06eePtCy00PIvZu+AStpz1VzA==\"\n",
    "container_landing = \"raw-data\"\n",
    "container_archive = \"archive\"\n",
    "landing_path = f\"wasbs://{container_landing}@{storage_account}.blob.core.windows.net/\"\n",
    "timestamp = datetime.now().strftime(\"%Y-%m-%d_%H-%M-%S\")\n",
    "archive_path = f\"wasbs://{container_archive}@{storage_account}.blob.core.windows.net/{timestamp}/\"\n",
    "\n",
    "# Set Spark config to access Blob Storage\n",
    "spark.conf.set(\n",
    "    f\"fs.azure.account.key.{storage_account}.blob.core.windows.net\",\n",
    "    storage_key\n",
    ")"
   ]
  },
  {
   "cell_type": "code",
   "execution_count": null,
   "metadata": {},
   "outputs": [],
   "source": [
    "# List all files in the landing folder\n",
    "landing_files = dbutils.fs.ls(landing_path)\n",
    "\n",
    "# Move files to archive\n",
    "for file in landing_files:\n",
    "    file_name = file.name\n",
    "    src = landing_path + file_name\n",
    "    dst = archive_path + file_name\n",
    "    \n",
    "    dbutils.fs.cp(src, dst)  # Copy\n",
    "    #dbutils.fs.rm(src)      # Remov"
   ]
  }
 ],
 "metadata": {
  "kernelspec": {
   "display_name": "Python 3",
   "language": "python",
   "name": "python3"
  },
  "language_info": {
   "codemirror_mode": {
    "name": "ipython",
    "version": 3
   },
   "file_extension": ".py",
   "mimetype": "text/x-python",
   "name": "python",
   "nbconvert_exporter": "python",
   "pygments_lexer": "ipython3",
   "version": "3.8.5"
  }
 },
 "nbformat": 4,
 "nbformat_minor": 4
}
