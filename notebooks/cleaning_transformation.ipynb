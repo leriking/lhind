{
 "cells": [
  {
   "cell_type": "code",
   "execution_count": null,
   "metadata": {},
   "outputs": [],
   "source": [
    "import pandas as pd\n",
    "from azure.storage.blob import BlobServiceClient, BlobClient\n",
    "import os\n",
    "from io import StringIO , BytesIO\n",
    "\n",
    "# Connection string \n",
    "connection_string = \"DefaultEndpointsProtocol=https;AccountName=lhindstorage;AccountKey=SPFV+Hdv7AWTGTpysBBwEVXJvefoYSSr17wLSWB+onc3PMYbwXEcpFRZvHvXF06eePtCy00PIvZu+AStpz1VzA==;EndpointSuffix=core.windows.net\"\n",
    "\n",
    "# Source and destination\n",
    "source_container = \"raw-data\"\n",
    "dest_container = \"clean-data\"\n",
    "# Initialize the BlobServiceClient\n",
    "blob_service_client = BlobServiceClient.from_connection_string(connection_string)\n",
    "# Get container clients\n",
    "source_client = blob_service_client.get_container_client(source_container)\n",
    "dest_client = blob_service_client.get_container_client(dest_container)"
   ]
  },
  {
   "cell_type": "code",
   "execution_count": null,
   "metadata": {},
   "outputs": [],
   "source": [
    "# Define blob clients\n",
    "datasets = {\n",
    "    \"customers\": \"olist_customers_dataset.csv\",\n",
    "    \"orders\": \"olist_orders_dataset.csv\",\n",
    "    \"products\": \"olist_products_dataset.csv\",\n",
    "    \"sellers\": \"olist_sellers_dataset.csv\",\n",
    "    \"order_items\": \"olist_order_items_dataset.csv\",\n",
    "    \"order_payments\": \"olist_order_payments_dataset.csv\",\n",
    "    \"order_reviews\": \"olist_order_reviews_dataset.csv\",\n",
    "    \"geolocation\": \"olist_geolocation_dataset.csv\",\n",
    "    \"product_category_name_translation\": \"product_category_name_translation.csv\"\n",
    "}\n",
    "\n",
    "# Download and load CSVs into pandas DataFrames\n",
    "dataframes = {}\n",
    "for key, blob_name in datasets.items():\n",
    "    blob_data = source_client.get_blob_client(blob_name).download_blob().readall()\n",
    "    df = pd.read_csv(BytesIO(blob_data))\n",
    "    dataframes[key] = df"
   ]
  },
  {
   "cell_type": "code",
   "execution_count": null,
   "metadata": {},
   "outputs": [],
   "source": [
    "## Drop duplicate\n",
    "for key in [\"geolocation\"]:\n",
    "    dataframes[key].drop_duplicates(inplace=True)"
   ]
  },
  {
   "cell_type": "code",
   "execution_count": null,
   "metadata": {},
   "outputs": [],
   "source": [
    "# Drop rows with missing info\n",
    "df_products = dataframes[\"products\"]\n",
    "df_products = df_products.dropna(subset=[\n",
    "    'product_category_name',\n",
    "    'product_name_lenght',\n",
    "    'product_description_lenght',\n",
    "    'product_photos_qty'\n",
    "])\n",
    "dataframes[\"products\"] = df_products"
   ]
  },
  {
   "cell_type": "code",
   "execution_count": null,
   "metadata": {},
   "outputs": [],
   "source": [
    "# # Handle missing values\n",
    "\n",
    "df_orders = dataframes[\"orders\"]\n",
    "df_order_reviews = dataframes[\"order_reviews\"]\n",
    "\n",
    "# Fill 'order_approved_at' only if missing and order not canceled\n",
    "mask_approved = df_orders['order_approved_at'].isna() & (df_orders['order_status'] != 'canceled')\n",
    "df_orders.loc[mask_approved, 'order_approved_at'] = df_orders.loc[mask_approved, 'order_purchase_timestamp']\n",
    "\n",
    "# Fill 'order_delivered_carrier_date' only if status is shipped/delivered\n",
    "mask_carrier = df_orders['order_delivered_carrier_date'].isna() & df_orders['order_status'].isin(['shipped', 'delivered'])\n",
    "df_orders.loc[mask_carrier, 'order_delivered_carrier_date'] = df_orders.loc[mask_carrier, 'order_purchase_timestamp']\n",
    "\n",
    "# Fill 'order_delivered_customer_date' only if delivered\n",
    "mask_delivered = df_orders['order_delivered_customer_date'].isna() & (df_orders['order_status'] == 'delivered')\n",
    "df_orders.loc[mask_delivered, 'order_delivered_customer_date'] = df_orders.loc[mask_delivered, 'order_estimated_delivery_date']\n",
    "\n",
    "# Fill remaining NaNs in order date fields as fallback\n",
    "df_orders.fillna({\n",
    "    'order_approved_at': df_orders['order_purchase_timestamp'],\n",
    "    'order_delivered_carrier_date': df_orders['order_purchase_timestamp'],\n",
    "    'order_delivered_customer_date': df_orders['order_estimated_delivery_date']\n",
    "}, inplace=True)\n",
    "\n",
    "# Fill review missing titles/messages with placeholder text\n",
    "df_order_reviews = dataframes[\"order_reviews\"]\n",
    "df_order_reviews.fillna({\n",
    "    'review_comment_title': 'No Title',\n",
    "    'review_comment_message': 'No Message'\n",
    "}, inplace=True)\n",
    "dataframes[\"orders\"] = df_orders\n",
    "dataframes[\"order_reviews\"] = df_order_reviews"
   ]
  },
  {
   "cell_type": "code",
   "execution_count": null,
   "metadata": {},
   "outputs": [],
   "source": [
    "# Upload cleaned DataFrames to clean-data container\n",
    "for key, df in dataframes.items():\n",
    "    csv_buffer = StringIO()\n",
    "    df.to_csv(csv_buffer, index=False)\n",
    "    csv_data = csv_buffer.getvalue().encode(\"utf-8\")\n",
    "\n",
    "    blob_client = dest_client.get_blob_client(f\"{key}.csv\")\n",
    "    blob_client.upload_blob(csv_data, overwrite=True)"
   ]
  }
 ],
 "metadata": {
  "kernelspec": {
   "display_name": "Python 3",
   "language": "python",
   "name": "python3"
  },
  "language_info": {
   "codemirror_mode": {
    "name": "ipython",
    "version": 3
   },
   "file_extension": ".py",
   "mimetype": "text/x-python",
   "name": "python",
   "nbconvert_exporter": "python",
   "pygments_lexer": "ipython3",
   "version": "3.8.5"
  }
 },
 "nbformat": 4,
 "nbformat_minor": 4
}
