{
 "cells": [
  {
   "cell_type": "code",
   "execution_count": null,
   "metadata": {},
   "outputs": [],
   "source": [
    "from pyspark.sql.functions import expr, datediff, col, to_date"
   ]
  },
  {
   "cell_type": "code",
   "execution_count": null,
   "metadata": {},
   "outputs": [],
   "source": [
    "# Create Spark session\n",
    "spark = SparkSession.builder.appName(\"DeltaToSQL\").getOrCreate()\n",
    "\n",
    "#  Set up Azure Blob Storage access\n",
    "spark.conf.set(\n",
    "    \"fs.azure.account.key.lhindstorage.blob.core.windows.net\",\n",
    "    \"SPFV+Hdv7AWTGTpysBBwEVXJvefoYSSr17wLSWB+onc3PMYbwXEcpFRZvHvXF06eePtCy00PIvZu+AStpz1VzA==\"\n",
    ")"
   ]
  },
  {
   "cell_type": "code",
   "execution_count": null,
   "metadata": {},
   "outputs": [],
   "source": [
    "#  Load clean CSV datasets from Azure Blob\n",
    "base_path = \"wasbs://clean-data@lhindstorage.blob.core.windows.net\"\n",
    "\n",
    "orders = spark.read.option(\"header\", \"true\").csv(f\"{base_path}/orders.csv\")\n",
    "order_items = spark.read.option(\"header\", \"true\").csv(f\"{base_path}/order_items.csv\")\n",
    "customers = spark.read.option(\"header\", \"true\").csv(f\"{base_path}/customers.csv\")\n",
    "products = spark.read.option(\"header\", \"true\").csv(f\"{base_path}/products.csv\")\n",
    "sellers = spark.read.option(\"header\", \"true\").csv(f\"{base_path}/sellers.csv\")\n",
    "geolocation = spark.read.option(\"header\", \"true\").csv(f\"{base_path}/geolocation.csv\")"
   ]
  },
  {
   "cell_type": "code",
   "execution_count": null,
   "metadata": {},
   "outputs": [],
   "source": [
    "# Create dim tables\n",
    "dim_products = products.dropDuplicates([\"product_id\"])\n",
    "\n",
    "dim_sellers = sellers.join(\n",
    "    geolocation,\n",
    "    sellers[\"seller_zip_code_prefix\"] == geolocation[\"geolocation_zip_code_prefix\"],\n",
    "    \"left\"\n",
    ").drop(\"geolocation_zip_code_prefix\")\n",
    "\n",
    "dim_customers = customers.join(\n",
    "    geolocation,\n",
    "    customers[\"customer_zip_code_prefix\"] == geolocation[\"geolocation_zip_code_prefix\"],\n",
    "    \"left\"\n",
    ").drop(\"geolocation_zip_code_prefix\")\n",
    "\n",
    "dim_dates = orders.select(\n",
    "    to_date(\"order_purchase_timestamp\").alias(\"purchase_date\"),\n",
    "    to_date(\"order_delivered_customer_date\").alias(\"delivery_date\")\n",
    ").dropDuplicates()"
   ]
  },
  {
   "cell_type": "code",
   "execution_count": null,
   "metadata": {},
   "outputs": [],
   "source": [
    "# Create fact table\n",
    "fact_order_items = order_items.join(orders, \"order_id\", \"left\")\n",
    "    ))"
   ]
  },
  {
   "cell_type": "code",
   "execution_count": null,
   "metadata": {},
   "outputs": [],
   "source": [
    "jdbc_url = (\n",
    "    \"jdbc:sqlserver://server-lhind.database.windows.net:1433;\"\n",
    "    \"database=db-lhind-dev;\"\n",
    "    \"user=lufthansadbo@server-lhind;\"\n",
    "    \"password=Lhind2025!;\"\n",
    "    \"encrypt=true;\"\n",
    "    \"trustServerCertificate=false;\"\n",
    "    \"hostNameInCertificate=*.database.windows.net;\"\n",
    "    \"loginTimeout=30;\"\n",
    ")\n"
   ]
  },
  {
   "cell_type": "code",
   "execution_count": null,
   "metadata": {},
   "outputs": [],
   "source": [
    "fact_order_items.write.jdbc(url=jdbc_url, table=\"fact_order_items\", mode=\"overwrite\", properties=connection_properties)\n",
    "dim_customers.write.jdbc(url=jdbc_url, table=\"dim_customers\", mode=\"overwrite\", properties=connection_properties)\n",
    "dim_products.write.jdbc(url=jdbc_url, table=\"dim_products\", mode=\"overwrite\", properties=connection_properties)\n",
    "dim_sellers.write.jdbc(url=jdbc_url, table=\"dim_sellers\", mode=\"overwrite\", properties=connection_properties)\n",
    "dim_dates.write.jdbc(url=jdbc_url, table=\"dim_dates\", mode=\"overwrite\", properties=connection_properties)\n"
   ]
  }
 ],
 "metadata": {
  "kernelspec": {
   "display_name": "Python 3",
   "language": "python",
   "name": "python3"
  },
  "language_info": {
   "codemirror_mode": {
    "name": "ipython",
    "version": 3
   },
   "file_extension": ".py",
   "mimetype": "text/x-python",
   "name": "python",
   "nbconvert_exporter": "python",
   "pygments_lexer": "ipython3",
   "version": "3.8.5"
  }
 },
 "nbformat": 4,
 "nbformat_minor": 4
}
